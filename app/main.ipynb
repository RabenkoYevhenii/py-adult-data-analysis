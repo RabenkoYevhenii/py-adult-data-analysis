{
 "cells": [
  {
   "cell_type": "code",
   "execution_count": 1,
   "outputs": [],
   "source": [
    "import numpy as np\n",
    "import pandas as pd\n",
    "import matplotlib.pyplot as plt\n",
    "import seaborn as sns"
   ],
   "metadata": {
    "collapsed": false,
    "pycharm": {
     "name": "#%%\n"
    },
    "ExecuteTime": {
     "end_time": "2024-01-24T12:02:38.771885100Z",
     "start_time": "2024-01-24T12:02:38.744801400Z"
    }
   }
  },
  {
   "cell_type": "markdown",
   "source": [
    "# Task 0\n",
    "Read the dataset from csv file & perform data cleaning - remove all rows, which contains `?` in some columns.\n",
    "Also check for data correctness (salary & salary $K)."
   ],
   "metadata": {
    "collapsed": false,
    "pycharm": {
     "name": "#%% md\n"
    }
   }
  },
  {
   "cell_type": "code",
   "execution_count": 2,
   "outputs": [],
   "source": [
    "df = pd.read_csv(\"../data/adult.csv\")\n",
    "df.replace(\"?\", np.nan, inplace=True)"
   ],
   "metadata": {
    "collapsed": false,
    "pycharm": {
     "name": "#%%\n"
    },
    "ExecuteTime": {
     "end_time": "2024-01-24T12:02:38.886545600Z",
     "start_time": "2024-01-24T12:02:38.756342500Z"
    }
   }
  },
  {
   "cell_type": "markdown",
   "source": [
    "# Task 1\n",
    "Print the count of men and women in the dataset."
   ],
   "metadata": {
    "collapsed": false,
    "pycharm": {
     "name": "#%% md\n"
    }
   }
  },
  {
   "cell_type": "code",
   "execution_count": 3,
   "outputs": [
    {
     "data": {
      "text/plain": "sex\nMale      21790\nFemale    10771\nName: count, dtype: int64"
     },
     "execution_count": 3,
     "metadata": {},
     "output_type": "execute_result"
    }
   ],
   "source": [
    "df.sex.value_counts()"
   ],
   "metadata": {
    "collapsed": false,
    "pycharm": {
     "name": "#%%\n"
    },
    "ExecuteTime": {
     "end_time": "2024-01-24T12:02:38.931313900Z",
     "start_time": "2024-01-24T12:02:38.889561700Z"
    }
   }
  },
  {
   "cell_type": "markdown",
   "source": [
    "# Task 2\n",
    "Find the average age of men in dataset"
   ],
   "metadata": {
    "collapsed": false,
    "pycharm": {
     "name": "#%% md\n"
    }
   }
  },
  {
   "cell_type": "code",
   "execution_count": 4,
   "outputs": [
    {
     "data": {
      "text/plain": "39.43354749885268"
     },
     "execution_count": 4,
     "metadata": {},
     "output_type": "execute_result"
    }
   ],
   "source": [
    "df[df[\"sex\"] == \"Male\"][\"age\"].mean()"
   ],
   "metadata": {
    "collapsed": false,
    "pycharm": {
     "name": "#%%\n"
    },
    "ExecuteTime": {
     "end_time": "2024-01-24T12:02:38.974678400Z",
     "start_time": "2024-01-24T12:02:38.912133700Z"
    }
   }
  },
  {
   "cell_type": "markdown",
   "source": [
    "# Task 3\n",
    "Get the percentage of people from Poland (native-country)"
   ],
   "metadata": {
    "collapsed": false,
    "pycharm": {
     "name": "#%% md\n"
    }
   }
  },
  {
   "cell_type": "code",
   "execution_count": 5,
   "outputs": [
    {
     "data": {
      "text/plain": "0.18426952489174164"
     },
     "execution_count": 5,
     "metadata": {},
     "output_type": "execute_result"
    }
   ],
   "source": [
    "(df[\"native-country\"] == \"Poland\").sum() / len(df) * 100"
   ],
   "metadata": {
    "collapsed": false,
    "pycharm": {
     "name": "#%%\n"
    },
    "ExecuteTime": {
     "end_time": "2024-01-24T12:02:38.976680500Z",
     "start_time": "2024-01-24T12:02:38.935324400Z"
    }
   }
  },
  {
   "cell_type": "markdown",
   "source": [
    "# Task 4\n",
    "Get the mean and standard deviation of the age for people who earn > 50K per year. After this, get it for those who earn <= 50K."
   ],
   "metadata": {
    "collapsed": false,
    "pycharm": {
     "name": "#%% md\n"
    }
   }
  },
  {
   "cell_type": "code",
   "execution_count": 6,
   "outputs": [
    {
     "name": "stdout",
     "output_type": "stream",
     "text": [
      "44.24984058155847\n",
      "10.519027719851826\n",
      "36.78373786407767\n",
      "14.02008849082488\n"
     ]
    }
   ],
   "source": [
    "print(df[df[\"salary\"] == \">50K\"][\"age\"].mean())\n",
    "print(df[df[\"salary\"] == \">50K\"][\"age\"].std())\n",
    "\n",
    "print(df[df[\"salary\"] == \"<=50K\"][\"age\"].mean())\n",
    "print(df[df[\"salary\"] == \"<=50K\"][\"age\"].std())"
   ],
   "metadata": {
    "collapsed": false,
    "pycharm": {
     "name": "#%%\n"
    },
    "ExecuteTime": {
     "end_time": "2024-01-24T12:02:39.043619600Z",
     "start_time": "2024-01-24T12:02:38.950602Z"
    }
   }
  },
  {
   "cell_type": "markdown",
   "source": [
    "# Task 5\n",
    "Check, if there are some people without higher education (education: Bachelors, Prof-school, Assoc-acdm, Assoc-voc, Masters, Doctorate), but with > 50K salary"
   ],
   "metadata": {
    "collapsed": false,
    "pycharm": {
     "name": "#%% md\n"
    }
   }
  },
  {
   "cell_type": "code",
   "execution_count": 7,
   "outputs": [
    {
     "data": {
      "text/plain": "       Unnamed: 0  age         workclass   education      marital-status  \\\n8               8   31           Private     Masters       Never-married   \n9               9   42           Private   Bachelors  Married-civ-spouse   \n11             11   30         State-gov   Bachelors  Married-civ-spouse   \n14             14   40           Private   Assoc-voc  Married-civ-spouse   \n19             19   43  Self-emp-not-inc     Masters            Divorced   \n...           ...  ...               ...         ...                 ...   \n32536       32536   34           Private   Bachelors       Never-married   \n32538       32538   38           Private   Bachelors            Divorced   \n32539       32539   71               NaN   Doctorate  Married-civ-spouse   \n32545       32545   39         Local-gov  Assoc-acdm  Married-civ-spouse   \n32554       32554   53           Private     Masters  Married-civ-spouse   \n\n            occupation   relationship                race     sex  \\\n8       Prof-specialty  Not-in-family               White  Female   \n9      Exec-managerial        Husband               White    Male   \n11      Prof-specialty        Husband  Asian-Pac-Islander    Male   \n14        Craft-repair        Husband  Asian-Pac-Islander    Male   \n19     Exec-managerial      Unmarried               White  Female   \n...                ...            ...                 ...     ...   \n32536  Exec-managerial  Not-in-family               White  Female   \n32538   Prof-specialty      Unmarried               Black  Female   \n32539              NaN        Husband               White    Male   \n32545     Adm-clerical           Wife               White  Female   \n32554  Exec-managerial        Husband               White    Male   \n\n       hours-per-week native-country salary  salary K$  \n8                  50  United-States   >50K        330  \n9                  40  United-States   >50K        303  \n11                 40          India   >50K        279  \n14                 40            NaN   >50K        325  \n19                 45  United-States   >50K        151  \n...               ...            ...    ...        ...  \n32536              55  United-States   >50K        260  \n32538              45  United-States   >50K        248  \n32539              10  United-States   >50K         62  \n32545              20  United-States   >50K        122  \n32554              40  United-States   >50K        103  \n\n[4535 rows x 13 columns]",
      "text/html": "<div>\n<style scoped>\n    .dataframe tbody tr th:only-of-type {\n        vertical-align: middle;\n    }\n\n    .dataframe tbody tr th {\n        vertical-align: top;\n    }\n\n    .dataframe thead th {\n        text-align: right;\n    }\n</style>\n<table border=\"1\" class=\"dataframe\">\n  <thead>\n    <tr style=\"text-align: right;\">\n      <th></th>\n      <th>Unnamed: 0</th>\n      <th>age</th>\n      <th>workclass</th>\n      <th>education</th>\n      <th>marital-status</th>\n      <th>occupation</th>\n      <th>relationship</th>\n      <th>race</th>\n      <th>sex</th>\n      <th>hours-per-week</th>\n      <th>native-country</th>\n      <th>salary</th>\n      <th>salary K$</th>\n    </tr>\n  </thead>\n  <tbody>\n    <tr>\n      <th>8</th>\n      <td>8</td>\n      <td>31</td>\n      <td>Private</td>\n      <td>Masters</td>\n      <td>Never-married</td>\n      <td>Prof-specialty</td>\n      <td>Not-in-family</td>\n      <td>White</td>\n      <td>Female</td>\n      <td>50</td>\n      <td>United-States</td>\n      <td>&gt;50K</td>\n      <td>330</td>\n    </tr>\n    <tr>\n      <th>9</th>\n      <td>9</td>\n      <td>42</td>\n      <td>Private</td>\n      <td>Bachelors</td>\n      <td>Married-civ-spouse</td>\n      <td>Exec-managerial</td>\n      <td>Husband</td>\n      <td>White</td>\n      <td>Male</td>\n      <td>40</td>\n      <td>United-States</td>\n      <td>&gt;50K</td>\n      <td>303</td>\n    </tr>\n    <tr>\n      <th>11</th>\n      <td>11</td>\n      <td>30</td>\n      <td>State-gov</td>\n      <td>Bachelors</td>\n      <td>Married-civ-spouse</td>\n      <td>Prof-specialty</td>\n      <td>Husband</td>\n      <td>Asian-Pac-Islander</td>\n      <td>Male</td>\n      <td>40</td>\n      <td>India</td>\n      <td>&gt;50K</td>\n      <td>279</td>\n    </tr>\n    <tr>\n      <th>14</th>\n      <td>14</td>\n      <td>40</td>\n      <td>Private</td>\n      <td>Assoc-voc</td>\n      <td>Married-civ-spouse</td>\n      <td>Craft-repair</td>\n      <td>Husband</td>\n      <td>Asian-Pac-Islander</td>\n      <td>Male</td>\n      <td>40</td>\n      <td>NaN</td>\n      <td>&gt;50K</td>\n      <td>325</td>\n    </tr>\n    <tr>\n      <th>19</th>\n      <td>19</td>\n      <td>43</td>\n      <td>Self-emp-not-inc</td>\n      <td>Masters</td>\n      <td>Divorced</td>\n      <td>Exec-managerial</td>\n      <td>Unmarried</td>\n      <td>White</td>\n      <td>Female</td>\n      <td>45</td>\n      <td>United-States</td>\n      <td>&gt;50K</td>\n      <td>151</td>\n    </tr>\n    <tr>\n      <th>...</th>\n      <td>...</td>\n      <td>...</td>\n      <td>...</td>\n      <td>...</td>\n      <td>...</td>\n      <td>...</td>\n      <td>...</td>\n      <td>...</td>\n      <td>...</td>\n      <td>...</td>\n      <td>...</td>\n      <td>...</td>\n      <td>...</td>\n    </tr>\n    <tr>\n      <th>32536</th>\n      <td>32536</td>\n      <td>34</td>\n      <td>Private</td>\n      <td>Bachelors</td>\n      <td>Never-married</td>\n      <td>Exec-managerial</td>\n      <td>Not-in-family</td>\n      <td>White</td>\n      <td>Female</td>\n      <td>55</td>\n      <td>United-States</td>\n      <td>&gt;50K</td>\n      <td>260</td>\n    </tr>\n    <tr>\n      <th>32538</th>\n      <td>32538</td>\n      <td>38</td>\n      <td>Private</td>\n      <td>Bachelors</td>\n      <td>Divorced</td>\n      <td>Prof-specialty</td>\n      <td>Unmarried</td>\n      <td>Black</td>\n      <td>Female</td>\n      <td>45</td>\n      <td>United-States</td>\n      <td>&gt;50K</td>\n      <td>248</td>\n    </tr>\n    <tr>\n      <th>32539</th>\n      <td>32539</td>\n      <td>71</td>\n      <td>NaN</td>\n      <td>Doctorate</td>\n      <td>Married-civ-spouse</td>\n      <td>NaN</td>\n      <td>Husband</td>\n      <td>White</td>\n      <td>Male</td>\n      <td>10</td>\n      <td>United-States</td>\n      <td>&gt;50K</td>\n      <td>62</td>\n    </tr>\n    <tr>\n      <th>32545</th>\n      <td>32545</td>\n      <td>39</td>\n      <td>Local-gov</td>\n      <td>Assoc-acdm</td>\n      <td>Married-civ-spouse</td>\n      <td>Adm-clerical</td>\n      <td>Wife</td>\n      <td>White</td>\n      <td>Female</td>\n      <td>20</td>\n      <td>United-States</td>\n      <td>&gt;50K</td>\n      <td>122</td>\n    </tr>\n    <tr>\n      <th>32554</th>\n      <td>32554</td>\n      <td>53</td>\n      <td>Private</td>\n      <td>Masters</td>\n      <td>Married-civ-spouse</td>\n      <td>Exec-managerial</td>\n      <td>Husband</td>\n      <td>White</td>\n      <td>Male</td>\n      <td>40</td>\n      <td>United-States</td>\n      <td>&gt;50K</td>\n      <td>103</td>\n    </tr>\n  </tbody>\n</table>\n<p>4535 rows × 13 columns</p>\n</div>"
     },
     "execution_count": 7,
     "metadata": {},
     "output_type": "execute_result"
    }
   ],
   "source": [
    "df[(df[\"education\"].isin(['Bachelors', 'Prof-school', 'Assoc-acdm', 'Assoc-voc', 'Masters', 'Doctorate'])) & (df[\"salary\"] == \">50K\")]"
   ],
   "metadata": {
    "collapsed": false,
    "pycharm": {
     "name": "#%%\n"
    },
    "ExecuteTime": {
     "end_time": "2024-01-24T12:02:39.088777400Z",
     "start_time": "2024-01-24T12:02:39.014035700Z"
    }
   }
  },
  {
   "cell_type": "markdown",
   "source": [
    "# Task 6\n",
    "Get the statistics of age for each type of education. Use `groupby` and `describe` for this."
   ],
   "metadata": {
    "collapsed": false,
    "pycharm": {
     "name": "#%% md\n"
    }
   }
  },
  {
   "cell_type": "code",
   "execution_count": 8,
   "outputs": [
    {
     "data": {
      "text/plain": "                count       mean        std   min    25%   50%   75%   max\neducation                                                                 \n10th            933.0  37.429796  16.720713  17.0  22.00  34.0  52.0  90.0\n11th           1175.0  32.355745  15.545485  17.0  18.00  28.0  43.0  90.0\n12th            433.0  32.000000  14.334625  17.0  19.00  28.0  41.0  79.0\n1st-4th         168.0  46.142857  15.615625  19.0  33.00  46.0  57.0  90.0\n5th-6th         333.0  42.885886  15.557285  17.0  29.00  42.0  54.0  84.0\n7th-8th         646.0  48.445820  16.092350  17.0  34.25  50.0  61.0  90.0\n9th             514.0  41.060311  15.946862  17.0  28.00  39.0  54.0  90.0\nAssoc-acdm     1067.0  37.381443  11.095177  19.0  29.00  36.0  44.0  90.0\nAssoc-voc      1382.0  38.553546  11.631300  19.0  30.00  37.0  46.0  84.0\nBachelors      5355.0  38.904949  11.912210  19.0  29.00  37.0  46.0  90.0\nDoctorate       413.0  47.702179  11.784716  24.0  39.00  47.0  55.0  80.0\nHS-grad       10501.0  38.974479  13.541524  17.0  28.00  37.0  48.0  90.0\nMasters        1723.0  44.049913  11.068935  18.0  36.00  43.0  51.0  90.0\nPreschool        51.0  42.764706  15.126914  19.0  31.00  41.0  53.5  75.0\nProf-school     576.0  44.746528  11.962477  25.0  36.00  43.0  51.0  90.0\nSome-college   7291.0  35.756275  13.474051  17.0  24.00  34.0  45.0  90.0",
      "text/html": "<div>\n<style scoped>\n    .dataframe tbody tr th:only-of-type {\n        vertical-align: middle;\n    }\n\n    .dataframe tbody tr th {\n        vertical-align: top;\n    }\n\n    .dataframe thead th {\n        text-align: right;\n    }\n</style>\n<table border=\"1\" class=\"dataframe\">\n  <thead>\n    <tr style=\"text-align: right;\">\n      <th></th>\n      <th>count</th>\n      <th>mean</th>\n      <th>std</th>\n      <th>min</th>\n      <th>25%</th>\n      <th>50%</th>\n      <th>75%</th>\n      <th>max</th>\n    </tr>\n    <tr>\n      <th>education</th>\n      <th></th>\n      <th></th>\n      <th></th>\n      <th></th>\n      <th></th>\n      <th></th>\n      <th></th>\n      <th></th>\n    </tr>\n  </thead>\n  <tbody>\n    <tr>\n      <th>10th</th>\n      <td>933.0</td>\n      <td>37.429796</td>\n      <td>16.720713</td>\n      <td>17.0</td>\n      <td>22.00</td>\n      <td>34.0</td>\n      <td>52.0</td>\n      <td>90.0</td>\n    </tr>\n    <tr>\n      <th>11th</th>\n      <td>1175.0</td>\n      <td>32.355745</td>\n      <td>15.545485</td>\n      <td>17.0</td>\n      <td>18.00</td>\n      <td>28.0</td>\n      <td>43.0</td>\n      <td>90.0</td>\n    </tr>\n    <tr>\n      <th>12th</th>\n      <td>433.0</td>\n      <td>32.000000</td>\n      <td>14.334625</td>\n      <td>17.0</td>\n      <td>19.00</td>\n      <td>28.0</td>\n      <td>41.0</td>\n      <td>79.0</td>\n    </tr>\n    <tr>\n      <th>1st-4th</th>\n      <td>168.0</td>\n      <td>46.142857</td>\n      <td>15.615625</td>\n      <td>19.0</td>\n      <td>33.00</td>\n      <td>46.0</td>\n      <td>57.0</td>\n      <td>90.0</td>\n    </tr>\n    <tr>\n      <th>5th-6th</th>\n      <td>333.0</td>\n      <td>42.885886</td>\n      <td>15.557285</td>\n      <td>17.0</td>\n      <td>29.00</td>\n      <td>42.0</td>\n      <td>54.0</td>\n      <td>84.0</td>\n    </tr>\n    <tr>\n      <th>7th-8th</th>\n      <td>646.0</td>\n      <td>48.445820</td>\n      <td>16.092350</td>\n      <td>17.0</td>\n      <td>34.25</td>\n      <td>50.0</td>\n      <td>61.0</td>\n      <td>90.0</td>\n    </tr>\n    <tr>\n      <th>9th</th>\n      <td>514.0</td>\n      <td>41.060311</td>\n      <td>15.946862</td>\n      <td>17.0</td>\n      <td>28.00</td>\n      <td>39.0</td>\n      <td>54.0</td>\n      <td>90.0</td>\n    </tr>\n    <tr>\n      <th>Assoc-acdm</th>\n      <td>1067.0</td>\n      <td>37.381443</td>\n      <td>11.095177</td>\n      <td>19.0</td>\n      <td>29.00</td>\n      <td>36.0</td>\n      <td>44.0</td>\n      <td>90.0</td>\n    </tr>\n    <tr>\n      <th>Assoc-voc</th>\n      <td>1382.0</td>\n      <td>38.553546</td>\n      <td>11.631300</td>\n      <td>19.0</td>\n      <td>30.00</td>\n      <td>37.0</td>\n      <td>46.0</td>\n      <td>84.0</td>\n    </tr>\n    <tr>\n      <th>Bachelors</th>\n      <td>5355.0</td>\n      <td>38.904949</td>\n      <td>11.912210</td>\n      <td>19.0</td>\n      <td>29.00</td>\n      <td>37.0</td>\n      <td>46.0</td>\n      <td>90.0</td>\n    </tr>\n    <tr>\n      <th>Doctorate</th>\n      <td>413.0</td>\n      <td>47.702179</td>\n      <td>11.784716</td>\n      <td>24.0</td>\n      <td>39.00</td>\n      <td>47.0</td>\n      <td>55.0</td>\n      <td>80.0</td>\n    </tr>\n    <tr>\n      <th>HS-grad</th>\n      <td>10501.0</td>\n      <td>38.974479</td>\n      <td>13.541524</td>\n      <td>17.0</td>\n      <td>28.00</td>\n      <td>37.0</td>\n      <td>48.0</td>\n      <td>90.0</td>\n    </tr>\n    <tr>\n      <th>Masters</th>\n      <td>1723.0</td>\n      <td>44.049913</td>\n      <td>11.068935</td>\n      <td>18.0</td>\n      <td>36.00</td>\n      <td>43.0</td>\n      <td>51.0</td>\n      <td>90.0</td>\n    </tr>\n    <tr>\n      <th>Preschool</th>\n      <td>51.0</td>\n      <td>42.764706</td>\n      <td>15.126914</td>\n      <td>19.0</td>\n      <td>31.00</td>\n      <td>41.0</td>\n      <td>53.5</td>\n      <td>75.0</td>\n    </tr>\n    <tr>\n      <th>Prof-school</th>\n      <td>576.0</td>\n      <td>44.746528</td>\n      <td>11.962477</td>\n      <td>25.0</td>\n      <td>36.00</td>\n      <td>43.0</td>\n      <td>51.0</td>\n      <td>90.0</td>\n    </tr>\n    <tr>\n      <th>Some-college</th>\n      <td>7291.0</td>\n      <td>35.756275</td>\n      <td>13.474051</td>\n      <td>17.0</td>\n      <td>24.00</td>\n      <td>34.0</td>\n      <td>45.0</td>\n      <td>90.0</td>\n    </tr>\n  </tbody>\n</table>\n</div>"
     },
     "execution_count": 8,
     "metadata": {},
     "output_type": "execute_result"
    }
   ],
   "source": [
    "df.groupby(\"education\")[\"age\"].describe()"
   ],
   "metadata": {
    "collapsed": false,
    "pycharm": {
     "name": "#%%\n"
    },
    "ExecuteTime": {
     "end_time": "2024-01-24T12:02:39.286302800Z",
     "start_time": "2024-01-24T12:02:39.068703500Z"
    }
   }
  },
  {
   "cell_type": "markdown",
   "source": [
    "# Task 7\n",
    "Compare the married and non-married men salaries. Who earns more? (>50K or <=50K)\n",
    "Married men are those, whom `marital-status` starts with \"Married\". Others are not."
   ],
   "metadata": {
    "collapsed": false,
    "pycharm": {
     "name": "#%% md\n"
    }
   }
  },
  {
   "cell_type": "code",
   "execution_count": 9,
   "outputs": [
    {
     "name": "stdout",
     "output_type": "stream",
     "text": [
      "         Unnamed: 0           age  hours-per-week     salary K$\n",
      "count  13541.000000  13541.000000    13541.000000  13541.000000\n",
      "mean   16356.250055     43.666568       44.077838    106.356178\n",
      "std     9419.441051     12.069749       11.676555    102.152510\n",
      "min        1.000000     17.000000        1.000000     15.000000\n",
      "25%     8227.000000     34.000000       40.000000     30.000000\n",
      "50%    16367.000000     42.000000       40.000000     46.000000\n",
      "75%    24533.000000     52.000000       50.000000    181.000000\n",
      "max    32557.000000     90.000000       99.000000    349.000000\n",
      "         Unnamed: 0          age  hours-per-week    salary K$\n",
      "count   8249.000000  8249.000000     8249.000000  8249.000000\n",
      "mean   16111.686871    32.484907       39.719966    45.977088\n",
      "std     9400.562295    12.466660       12.345707    53.237762\n",
      "min        0.000000    17.000000        1.000000    15.000000\n",
      "25%     7987.000000    23.000000       38.000000    24.000000\n",
      "50%    16108.000000    29.000000       40.000000    34.000000\n",
      "75%    24204.000000    39.000000       45.000000    43.000000\n",
      "max    32559.000000    90.000000       99.000000   349.000000\n"
     ]
    }
   ],
   "source": [
    "print(df[(df[\"sex\"]==\"Male\") & (df[\"marital-status\"].str.startswith(\"Married\"))].describe())\n",
    "print(df[(df[\"sex\"]==\"Male\") & (~df[\"marital-status\"].str.startswith(\"Married\"))].describe())"
   ],
   "metadata": {
    "collapsed": false,
    "pycharm": {
     "name": "#%%\n"
    },
    "ExecuteTime": {
     "end_time": "2024-01-24T12:02:39.620003Z",
     "start_time": "2024-01-24T12:02:39.215013800Z"
    }
   }
  },
  {
   "cell_type": "markdown",
   "source": [
    "# Task 8\n",
    "Get the max hours per week some person works. How many people works the same amount of hours per week?"
   ],
   "metadata": {
    "collapsed": false,
    "pycharm": {
     "name": "#%% md\n"
    }
   }
  },
  {
   "cell_type": "code",
   "execution_count": 10,
   "outputs": [
    {
     "data": {
      "text/plain": "85"
     },
     "execution_count": 10,
     "metadata": {},
     "output_type": "execute_result"
    }
   ],
   "source": [
    "df[df[\"hours-per-week\"] == df[\"hours-per-week\"].max()].shape[0]"
   ],
   "metadata": {
    "collapsed": false,
    "pycharm": {
     "name": "#%%\n"
    },
    "ExecuteTime": {
     "end_time": "2024-01-24T12:02:39.705020200Z",
     "start_time": "2024-01-24T12:02:39.457023300Z"
    }
   }
  },
  {
   "cell_type": "markdown",
   "source": [
    "# Task 9\n",
    "Analyze the correlation between data in dataset. Understand connected fields in it and print highlight their connection."
   ],
   "metadata": {
    "collapsed": false,
    "pycharm": {
     "name": "#%% md\n"
    }
   }
  },
  {
   "cell_type": "code",
   "execution_count": 11,
   "outputs": [
    {
     "data": {
      "text/plain": "<Figure size 1200x800 with 2 Axes>",
      "image/png": "[encoded data removed]"
     },
     "metadata": {},
     "output_type": "display_data"
    }
   ],
   "source": [
    "numeric_df = df[\n",
    "    [\"age\", \"hours-per-week\", \"salary K$\"]\n",
    "]\n",
    "\n",
    "correlation_matrix = numeric_df.corr()\n",
    "\n",
    "plt.figure(figsize=(12, 8))\n",
    "sns.heatmap(correlation_matrix, annot=True, cmap='coolwarm', fmt=\".2f\", linewidths=.5)\n",
    "plt.title(\"Correlation Matrix\")\n",
    "plt.show()"
   ],
   "metadata": {
    "collapsed": false,
    "pycharm": {
     "name": "#%%\n"
    },
    "ExecuteTime": {
     "end_time": "2024-01-24T12:02:41.196337200Z",
     "start_time": "2024-01-24T12:02:39.487688300Z"
    }
   }
  }
 ],
 "metadata": {
  "kernelspec": {
   "display_name": "Python 3",
   "language": "python",
   "name": "python3"
  },
  "language_info": {
   "codemirror_mode": {
    "name": "ipython",
    "version": 2
   },
   "file_extension": ".py",
   "mimetype": "text/x-python",
   "name": "python",
   "nbconvert_exporter": "python",
   "pygments_lexer": "ipython2",
   "version": "2.7.6"
  }
 },
 "nbformat": 4,
 "nbformat_minor": 0
}
